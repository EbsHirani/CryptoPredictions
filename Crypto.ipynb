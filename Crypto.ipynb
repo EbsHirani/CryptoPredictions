{
  "nbformat": 4,
  "nbformat_minor": 0,
  "metadata": {
    "colab": {
      "name": "Crypto.ipynb",
      "provenance": [],
      "collapsed_sections": []
    },
    "kernelspec": {
      "name": "python3",
      "display_name": "Python 3"
    },
    "accelerator": "GPU"
  },
  "cells": [
    {
      "cell_type": "code",
      "metadata": {
        "id": "4w--iQ_fuBzO",
        "colab_type": "code",
        "colab": {
          "base_uri": "https://localhost:8080/",
          "height": 124
        },
        "outputId": "a4e982e9-d6a5-4561-9f7a-8dd94031abd0"
      },
      "source": [
        "from google.colab import drive\n",
        "drive.mount('/content/gdrive')"
      ],
      "execution_count": 1,
      "outputs": [
        {
          "output_type": "stream",
          "text": [
            "Go to this URL in a browser: https://accounts.google.com/o/oauth2/auth?client_id=947318989803-6bn6qk8qdgf4n4g3pfee6491hc0brc4i.apps.googleusercontent.com&redirect_uri=urn%3aietf%3awg%3aoauth%3a2.0%3aoob&response_type=code&scope=email%20https%3a%2f%2fwww.googleapis.com%2fauth%2fdocs.test%20https%3a%2f%2fwww.googleapis.com%2fauth%2fdrive%20https%3a%2f%2fwww.googleapis.com%2fauth%2fdrive.photos.readonly%20https%3a%2f%2fwww.googleapis.com%2fauth%2fpeopleapi.readonly\n",
            "\n",
            "Enter your authorization code:\n",
            "··········\n",
            "Mounted at /content/gdrive\n"
          ],
          "name": "stdout"
        }
      ]
    },
    {
      "cell_type": "code",
      "metadata": {
        "id": "fHwnQGuexsDa",
        "colab_type": "code",
        "colab": {}
      },
      "source": [
        "import os\n",
        "os.chdir('gdrive/My Drive/crypto/')\n",
        "#!unzip \\*.zip\n"
      ],
      "execution_count": 0,
      "outputs": []
    },
    {
      "cell_type": "code",
      "metadata": {
        "id": "TlNj55VJ7a-n",
        "colab_type": "code",
        "colab": {}
      },
      "source": [
        "os.chdir('crypto_data')"
      ],
      "execution_count": 0,
      "outputs": []
    },
    {
      "cell_type": "code",
      "metadata": {
        "id": "_3zXTGdqzos4",
        "colab_type": "code",
        "colab": {
          "base_uri": "https://localhost:8080/",
          "height": 99
        },
        "outputId": "05f3bb95-c25e-4af4-a6d1-f15d257b07e1"
      },
      "source": [
        "import pandas as pd \n",
        "import numpy as np\n",
        "from tensorflow.keras.models import Sequential\n",
        "from tensorflow.keras.layers import Dense , Dropout , Lambda, Flatten, LSTM, CuDNNLSTM\n",
        "from keras.layers.normalization import BatchNormalization\n",
        "from tensorflow.keras.optimizers import Adam ,RMSprop\n",
        "from tensorflow.keras.optimizers import SGD\n",
        "from sklearn.model_selection import train_test_split\n",
        "from keras import  backend as K\n",
        "from keras.utils.np_utils import to_categorical\n",
        "\n",
        "\n",
        "from keras.callbacks import EarlyStopping, TensorBoard, ModelCheckpoint\n",
        "from tensorflow.keras.layers import BatchNormalization , MaxPooling2D, Activation"
      ],
      "execution_count": 4,
      "outputs": [
        {
          "output_type": "display_data",
          "data": {
            "text/html": [
              "<p style=\"color: red;\">\n",
              "The default version of TensorFlow in Colab will soon switch to TensorFlow 2.x.<br>\n",
              "We recommend you <a href=\"https://www.tensorflow.org/guide/migrate\" target=\"_blank\">upgrade</a> now \n",
              "or ensure your notebook will continue to use TensorFlow 1.x via the <code>%tensorflow_version 1.x</code> magic:\n",
              "<a href=\"https://colab.research.google.com/notebooks/tensorflow_version.ipynb\" target=\"_blank\">more info</a>.</p>\n"
            ],
            "text/plain": [
              "<IPython.core.display.HTML object>"
            ]
          },
          "metadata": {
            "tags": []
          }
        },
        {
          "output_type": "stream",
          "text": [
            "Using TensorFlow backend.\n"
          ],
          "name": "stderr"
        }
      ]
    },
    {
      "cell_type": "code",
      "metadata": {
        "id": "Wvx2FcbM0oww",
        "colab_type": "code",
        "colab": {
          "base_uri": "https://localhost:8080/",
          "height": 173
        },
        "outputId": "8e92a754-e261-4da5-8566-e845794b0cbb"
      },
      "source": [
        "types = ['BTC-USD','LTC-USD','ETH-USD','BCH-USD']\n",
        "full_df = pd.DataFrame()\n",
        "for curr in types:\n",
        "  df = pd.read_csv(f\"{curr}.csv\",names = [\"time\",'low','high','open',f'{curr}_close',f\"{curr}_volume\",])\n",
        "  df.set_index(\"time\",inplace = True)\n",
        "  df = df[[f\"{curr}_close\",f\"{curr}_volume\"]]\n",
        "  if len(full_df) == 0:\n",
        "    full_df = df\n",
        "  else:\n",
        "    full_df = full_df.join(df)\n",
        "print(full_df.head())\n",
        "\n"
      ],
      "execution_count": 5,
      "outputs": [
        {
          "output_type": "stream",
          "text": [
            "            BTC-USD_close  BTC-USD_volume  ...  BCH-USD_close  BCH-USD_volume\n",
            "time                                       ...                               \n",
            "1528968660    6489.549805        0.587100  ...     871.719971        5.675361\n",
            "1528968720    6487.379883        7.706374  ...     870.859985       26.856577\n",
            "1528968780    6479.410156        3.088252  ...     870.099976        1.124300\n",
            "1528968840    6479.410156        1.404100  ...     870.789978        1.749862\n",
            "1528968900    6479.979980        0.753000  ...     870.000000        1.680500\n",
            "\n",
            "[5 rows x 8 columns]\n"
          ],
          "name": "stdout"
        }
      ]
    },
    {
      "cell_type": "code",
      "metadata": {
        "id": "fFZtKb4p8Euq",
        "colab_type": "code",
        "colab": {
          "base_uri": "https://localhost:8080/",
          "height": 173
        },
        "outputId": "fd53b31e-e0a4-466e-9ee0-ce3ea06748b6"
      },
      "source": [
        "CURR = \"BTC-USD\" #change this to train for different currency\n",
        "SEQ = 60\n",
        "FUTURE = 3\n",
        "full_df[f'{CURR}_future'] = full_df[f'{CURR}_close'].shift(-FUTURE)\n",
        "print(full_df.head())\n"
      ],
      "execution_count": 7,
      "outputs": [
        {
          "output_type": "stream",
          "text": [
            "            BTC-USD_close  BTC-USD_volume  ...  BCH-USD_volume  BTC-USD_future\n",
            "time                                       ...                                \n",
            "1528968660    6489.549805        0.587100  ...        5.675361     6479.410156\n",
            "1528968720    6487.379883        7.706374  ...       26.856577     6479.979980\n",
            "1528968780    6479.410156        3.088252  ...        1.124300     6480.000000\n",
            "1528968840    6479.410156        1.404100  ...        1.749862     6477.220215\n",
            "1528968900    6479.979980        0.753000  ...        1.680500     6480.000000\n",
            "\n",
            "[5 rows x 9 columns]\n"
          ],
          "name": "stdout"
        }
      ]
    },
    {
      "cell_type": "code",
      "metadata": {
        "id": "2q_bYTisn2E_",
        "colab_type": "code",
        "colab": {}
      },
      "source": [
        "def classify(curr,nex):\n",
        "  if(float(curr)<float(nex)):\n",
        "    return 1\n",
        "  else:\n",
        "    return 0 "
      ],
      "execution_count": 0,
      "outputs": []
    },
    {
      "cell_type": "code",
      "metadata": {
        "id": "EeWgpDJ-Lb-M",
        "colab_type": "code",
        "colab": {
          "base_uri": "https://localhost:8080/",
          "height": 347
        },
        "outputId": "0aa744e0-a7a8-43d8-a026-4d554b6ae735"
      },
      "source": [
        "full_df[\"profit\"] = list(map(classify,full_df[f'{CURR}_close'],full_df[f'{CURR}_future']))\n",
        "print(full_df.head(15))"
      ],
      "execution_count": 8,
      "outputs": [
        {
          "output_type": "stream",
          "text": [
            "            BTC-USD_close  BTC-USD_volume  ...  BTC-USD_future  profit\n",
            "time                                       ...                        \n",
            "1528968660    6489.549805        0.587100  ...     6479.410156       0\n",
            "1528968720    6487.379883        7.706374  ...     6479.979980       0\n",
            "1528968780    6479.410156        3.088252  ...     6480.000000       1\n",
            "1528968840    6479.410156        1.404100  ...     6477.220215       0\n",
            "1528968900    6479.979980        0.753000  ...     6480.000000       1\n",
            "1528968960    6480.000000        1.490900  ...     6479.990234       0\n",
            "1528969020    6477.220215        2.731950  ...     6478.660156       1\n",
            "1528969080    6480.000000        2.174240  ...     6478.660156       0\n",
            "1528969140    6479.990234        0.903100  ...     6479.339844       0\n",
            "1528969200    6478.660156        3.258786  ...     6479.350098       1\n",
            "1528969260    6478.660156        1.970352  ...     6479.990234       1\n",
            "1528969320    6479.339844        3.056897  ...     6481.890137       1\n",
            "1528969380    6479.350098        0.898160  ...     6484.709961       1\n",
            "1528969440    6479.990234        0.782100  ...     6484.709961       1\n",
            "1528969500    6481.890137        1.822273  ...     6485.000000       1\n",
            "\n",
            "[15 rows x 10 columns]\n"
          ],
          "name": "stdout"
        }
      ]
    },
    {
      "cell_type": "code",
      "metadata": {
        "id": "hhjmZ7DLM3rM",
        "colab_type": "code",
        "colab": {
          "base_uri": "https://localhost:8080/",
          "height": 270
        },
        "outputId": "92318d81-1c46-4637-c3e7-e851786777eb"
      },
      "source": [
        "full_df.drop(columns= f'{CURR}_future', inplace= True)\n",
        "for col in [cols for cols in full_df.columns if cols != 'profit']:\n",
        "  full_df[col] = full_df[col].pct_change()\n",
        "full_df.head()\n",
        "\n"
      ],
      "execution_count": 9,
      "outputs": [
        {
          "output_type": "execute_result",
          "data": {
            "text/html": [
              "<div>\n",
              "<style scoped>\n",
              "    .dataframe tbody tr th:only-of-type {\n",
              "        vertical-align: middle;\n",
              "    }\n",
              "\n",
              "    .dataframe tbody tr th {\n",
              "        vertical-align: top;\n",
              "    }\n",
              "\n",
              "    .dataframe thead th {\n",
              "        text-align: right;\n",
              "    }\n",
              "</style>\n",
              "<table border=\"1\" class=\"dataframe\">\n",
              "  <thead>\n",
              "    <tr style=\"text-align: right;\">\n",
              "      <th></th>\n",
              "      <th>BTC-USD_close</th>\n",
              "      <th>BTC-USD_volume</th>\n",
              "      <th>LTC-USD_close</th>\n",
              "      <th>LTC-USD_volume</th>\n",
              "      <th>ETH-USD_close</th>\n",
              "      <th>ETH-USD_volume</th>\n",
              "      <th>BCH-USD_close</th>\n",
              "      <th>BCH-USD_volume</th>\n",
              "      <th>profit</th>\n",
              "    </tr>\n",
              "    <tr>\n",
              "      <th>time</th>\n",
              "      <th></th>\n",
              "      <th></th>\n",
              "      <th></th>\n",
              "      <th></th>\n",
              "      <th></th>\n",
              "      <th></th>\n",
              "      <th></th>\n",
              "      <th></th>\n",
              "      <th></th>\n",
              "    </tr>\n",
              "  </thead>\n",
              "  <tbody>\n",
              "    <tr>\n",
              "      <th>1528968660</th>\n",
              "      <td>NaN</td>\n",
              "      <td>NaN</td>\n",
              "      <td>NaN</td>\n",
              "      <td>NaN</td>\n",
              "      <td>NaN</td>\n",
              "      <td>NaN</td>\n",
              "      <td>NaN</td>\n",
              "      <td>NaN</td>\n",
              "      <td>0</td>\n",
              "    </tr>\n",
              "    <tr>\n",
              "      <th>1528968720</th>\n",
              "      <td>-0.000334</td>\n",
              "      <td>12.126169</td>\n",
              "      <td>0.000828</td>\n",
              "      <td>31.588422</td>\n",
              "      <td>NaN</td>\n",
              "      <td>NaN</td>\n",
              "      <td>-0.000987</td>\n",
              "      <td>3.732135</td>\n",
              "      <td>0</td>\n",
              "    </tr>\n",
              "    <tr>\n",
              "      <th>1528968780</th>\n",
              "      <td>-0.001228</td>\n",
              "      <td>-0.599260</td>\n",
              "      <td>-0.000931</td>\n",
              "      <td>-0.754666</td>\n",
              "      <td>-0.000021</td>\n",
              "      <td>-0.675261</td>\n",
              "      <td>-0.000873</td>\n",
              "      <td>-0.958137</td>\n",
              "      <td>1</td>\n",
              "    </tr>\n",
              "    <tr>\n",
              "      <th>1528968840</th>\n",
              "      <td>0.000000</td>\n",
              "      <td>-0.545342</td>\n",
              "      <td>-0.000725</td>\n",
              "      <td>-0.906443</td>\n",
              "      <td>-0.000514</td>\n",
              "      <td>2.194860</td>\n",
              "      <td>0.000793</td>\n",
              "      <td>0.556401</td>\n",
              "      <td>0</td>\n",
              "    </tr>\n",
              "    <tr>\n",
              "      <th>1528968900</th>\n",
              "      <td>0.000088</td>\n",
              "      <td>-0.463713</td>\n",
              "      <td>-0.001140</td>\n",
              "      <td>71.690564</td>\n",
              "      <td>0.000515</td>\n",
              "      <td>1.865596</td>\n",
              "      <td>-0.000907</td>\n",
              "      <td>-0.039639</td>\n",
              "      <td>1</td>\n",
              "    </tr>\n",
              "  </tbody>\n",
              "</table>\n",
              "</div>"
            ],
            "text/plain": [
              "            BTC-USD_close  BTC-USD_volume  ...  BCH-USD_volume  profit\n",
              "time                                       ...                        \n",
              "1528968660            NaN             NaN  ...             NaN       0\n",
              "1528968720      -0.000334       12.126169  ...        3.732135       0\n",
              "1528968780      -0.001228       -0.599260  ...       -0.958137       1\n",
              "1528968840       0.000000       -0.545342  ...        0.556401       0\n",
              "1528968900       0.000088       -0.463713  ...       -0.039639       1\n",
              "\n",
              "[5 rows x 9 columns]"
            ]
          },
          "metadata": {
            "tags": []
          },
          "execution_count": 9
        }
      ]
    },
    {
      "cell_type": "code",
      "metadata": {
        "id": "dH0Klewicspr",
        "colab_type": "code",
        "colab": {
          "base_uri": "https://localhost:8080/",
          "height": 270
        },
        "outputId": "554744c9-cb85-4ae5-ea8f-8f3e2fa44835"
      },
      "source": [
        "full_df.dropna(inplace=True)\n",
        "full_df.head()\n"
      ],
      "execution_count": 10,
      "outputs": [
        {
          "output_type": "execute_result",
          "data": {
            "text/html": [
              "<div>\n",
              "<style scoped>\n",
              "    .dataframe tbody tr th:only-of-type {\n",
              "        vertical-align: middle;\n",
              "    }\n",
              "\n",
              "    .dataframe tbody tr th {\n",
              "        vertical-align: top;\n",
              "    }\n",
              "\n",
              "    .dataframe thead th {\n",
              "        text-align: right;\n",
              "    }\n",
              "</style>\n",
              "<table border=\"1\" class=\"dataframe\">\n",
              "  <thead>\n",
              "    <tr style=\"text-align: right;\">\n",
              "      <th></th>\n",
              "      <th>BTC-USD_close</th>\n",
              "      <th>BTC-USD_volume</th>\n",
              "      <th>LTC-USD_close</th>\n",
              "      <th>LTC-USD_volume</th>\n",
              "      <th>ETH-USD_close</th>\n",
              "      <th>ETH-USD_volume</th>\n",
              "      <th>BCH-USD_close</th>\n",
              "      <th>BCH-USD_volume</th>\n",
              "      <th>profit</th>\n",
              "    </tr>\n",
              "    <tr>\n",
              "      <th>time</th>\n",
              "      <th></th>\n",
              "      <th></th>\n",
              "      <th></th>\n",
              "      <th></th>\n",
              "      <th></th>\n",
              "      <th></th>\n",
              "      <th></th>\n",
              "      <th></th>\n",
              "      <th></th>\n",
              "    </tr>\n",
              "  </thead>\n",
              "  <tbody>\n",
              "    <tr>\n",
              "      <th>1528968780</th>\n",
              "      <td>-0.001228</td>\n",
              "      <td>-0.599260</td>\n",
              "      <td>-0.000931</td>\n",
              "      <td>-0.754666</td>\n",
              "      <td>-0.000021</td>\n",
              "      <td>-0.675261</td>\n",
              "      <td>-0.000873</td>\n",
              "      <td>-0.958137</td>\n",
              "      <td>1</td>\n",
              "    </tr>\n",
              "    <tr>\n",
              "      <th>1528968840</th>\n",
              "      <td>0.000000</td>\n",
              "      <td>-0.545342</td>\n",
              "      <td>-0.000725</td>\n",
              "      <td>-0.906443</td>\n",
              "      <td>-0.000514</td>\n",
              "      <td>2.194860</td>\n",
              "      <td>0.000793</td>\n",
              "      <td>0.556401</td>\n",
              "      <td>0</td>\n",
              "    </tr>\n",
              "    <tr>\n",
              "      <th>1528968900</th>\n",
              "      <td>0.000088</td>\n",
              "      <td>-0.463713</td>\n",
              "      <td>-0.001140</td>\n",
              "      <td>71.690564</td>\n",
              "      <td>0.000515</td>\n",
              "      <td>1.865596</td>\n",
              "      <td>-0.000907</td>\n",
              "      <td>-0.039639</td>\n",
              "      <td>1</td>\n",
              "    </tr>\n",
              "    <tr>\n",
              "      <th>1528968960</th>\n",
              "      <td>0.000003</td>\n",
              "      <td>0.979947</td>\n",
              "      <td>0.001349</td>\n",
              "      <td>-0.967606</td>\n",
              "      <td>0.000000</td>\n",
              "      <td>-0.903003</td>\n",
              "      <td>-0.000012</td>\n",
              "      <td>-0.006835</td>\n",
              "      <td>0</td>\n",
              "    </tr>\n",
              "    <tr>\n",
              "      <th>1528969020</th>\n",
              "      <td>-0.000429</td>\n",
              "      <td>0.832417</td>\n",
              "      <td>-0.000829</td>\n",
              "      <td>4.621710</td>\n",
              "      <td>-0.000021</td>\n",
              "      <td>10.445264</td>\n",
              "      <td>-0.000621</td>\n",
              "      <td>-0.481610</td>\n",
              "      <td>1</td>\n",
              "    </tr>\n",
              "  </tbody>\n",
              "</table>\n",
              "</div>"
            ],
            "text/plain": [
              "            BTC-USD_close  BTC-USD_volume  ...  BCH-USD_volume  profit\n",
              "time                                       ...                        \n",
              "1528968780      -0.001228       -0.599260  ...       -0.958137       1\n",
              "1528968840       0.000000       -0.545342  ...        0.556401       0\n",
              "1528968900       0.000088       -0.463713  ...       -0.039639       1\n",
              "1528968960       0.000003        0.979947  ...       -0.006835       0\n",
              "1528969020      -0.000429        0.832417  ...       -0.481610       1\n",
              "\n",
              "[5 rows x 9 columns]"
            ]
          },
          "metadata": {
            "tags": []
          },
          "execution_count": 10
        }
      ]
    },
    {
      "cell_type": "code",
      "metadata": {
        "id": "Ajw32xXVdQgT",
        "colab_type": "code",
        "colab": {}
      },
      "source": [
        "from collections import deque\n",
        "abc = full_df\n",
        "sequential_data = []\n",
        "sequence = deque(maxlen = SEQ)\n",
        "for dat in abc.values:\n",
        "  sequence.append(dat[:-1])\n",
        "  if len(sequence) == SEQ:\n",
        "    sequential_data.append([np.array(sequence),dat[-1]])\n",
        "\n",
        "\n",
        "\n",
        "  \n"
      ],
      "execution_count": 0,
      "outputs": []
    },
    {
      "cell_type": "code",
      "metadata": {
        "id": "Vuo0xBBI0lqh",
        "colab_type": "code",
        "colab": {
          "base_uri": "https://localhost:8080/",
          "height": 52
        },
        "outputId": "9f70ae73-625c-4674-c088-edf619ab86ff"
      },
      "source": [
        "ones = 0\n",
        "zeroes = 0\n",
        "for abc, res in sequential_data:\n",
        "  if res == 0:\n",
        "    zeroes = zeroes + 1\n",
        "  else:\n",
        "    ones = ones + 1 \n",
        "print(zeroes/(zeroes+ones))\n",
        "print(ones/(zeroes+ones))"
      ],
      "execution_count": 13,
      "outputs": [
        {
          "output_type": "stream",
          "text": [
            "0.5510479915628231\n",
            "0.4489520084371768\n"
          ],
          "name": "stdout"
        }
      ]
    },
    {
      "cell_type": "code",
      "metadata": {
        "id": "d7FU19Ec03si",
        "colab_type": "code",
        "colab": {}
      },
      "source": [
        "import random\n",
        "random.shuffle(sequential_data)"
      ],
      "execution_count": 0,
      "outputs": []
    },
    {
      "cell_type": "code",
      "metadata": {
        "id": "UPuHG93q_waQ",
        "colab_type": "code",
        "colab": {}
      },
      "source": [
        "x = []\n",
        "y = []\n",
        "for xval , yval in sequential_data:\n",
        "  x.append(xval)\n",
        "  y.append(yval)\n",
        "x = np.array(x)   \n"
      ],
      "execution_count": 0,
      "outputs": []
    },
    {
      "cell_type": "code",
      "metadata": {
        "id": "gWKlWpIHFe64",
        "colab_type": "code",
        "colab": {
          "base_uri": "https://localhost:8080/",
          "height": 35
        },
        "outputId": "f108e349-4a5c-4da8-d05e-a3a978c918d4"
      },
      "source": [
        "x.shape"
      ],
      "execution_count": 16,
      "outputs": [
        {
          "output_type": "execute_result",
          "data": {
            "text/plain": [
              "(97663, 60, 8)"
            ]
          },
          "metadata": {
            "tags": []
          },
          "execution_count": 16
        }
      ]
    },
    {
      "cell_type": "code",
      "metadata": {
        "id": "4AqMt94AncdW",
        "colab_type": "code",
        "colab": {}
      },
      "source": [
        "def standardise(j):\n",
        "   return (j-xtrain.mean())/xtrain.std()\n",
        "    "
      ],
      "execution_count": 0,
      "outputs": []
    },
    {
      "cell_type": "code",
      "metadata": {
        "id": "Is1zZpjeR-LX",
        "colab_type": "code",
        "colab": {}
      },
      "source": [
        "model = Sequential([Lambda(standardise, input_shape = (x.shape[1:])),\n",
        "                    CuDNNLSTM(32,  return_sequences = True),\n",
        "                    Dropout(0.2),\n",
        "                    BatchNormalization(),\n",
        "                    CuDNNLSTM(32, return_sequences = True),\n",
        "                    Dropout(0.2),\n",
        "                    BatchNormalization(),\n",
        "                    CuDNNLSTM(32, return_sequences = False),\n",
        "                    Dropout(0.2),\n",
        "                    BatchNormalization(),\n",
        "                    Dense(64, activation= 'relu'),\n",
        "                    Dropout(0.2),\n",
        "                    BatchNormalization(),\n",
        "                    Dense(1,activation='sigmoid')\n",
        "])\n",
        "model.compile(Adam(), loss='binary_crossentropy', metrics=['accuracy'])\n",
        "model.optimizer.lr=0.05"
      ],
      "execution_count": 0,
      "outputs": []
    },
    {
      "cell_type": "code",
      "metadata": {
        "id": "YPwO-JmDHynR",
        "colab_type": "code",
        "colab": {}
      },
      "source": [
        "from sklearn.model_selection import train_test_split\n",
        "\n",
        "xtrain,xval, ytrain, yval = train_test_split(x, y,test_size = 0.10, random_state = 42)\n",
        "# batches=gen.flow(xtrain,ytrain,batch_size = 16)\n",
        "# valbatches = gen.flow(xtest,ytest,batch_size = 16)"
      ],
      "execution_count": 0,
      "outputs": []
    },
    {
      "cell_type": "code",
      "metadata": {
        "id": "R_eRioOrMcZ8",
        "colab_type": "code",
        "colab": {
          "base_uri": "https://localhost:8080/",
          "height": 35
        },
        "outputId": "d41a5f90-5875-4480-bf5d-7c1073adb9e5"
      },
      "source": [
        "xtrain.shape"
      ],
      "execution_count": 19,
      "outputs": [
        {
          "output_type": "execute_result",
          "data": {
            "text/plain": [
              "(87896, 60, 8)"
            ]
          },
          "metadata": {
            "tags": []
          },
          "execution_count": 19
        }
      ]
    },
    {
      "cell_type": "code",
      "metadata": {
        "id": "E_EtDRBbJX3H",
        "colab_type": "code",
        "colab": {}
      },
      "source": [
        "history = model.fit(xtrain,ytrain,batch_size=64, epochs=10,callbacks=[EarlyStopping(monitor='val_loss', patience=3, verbose=1, mode='auto')],validation_data=(xval,yval) )"
      ],
      "execution_count": 0,
      "outputs": []
    }
  ]
}